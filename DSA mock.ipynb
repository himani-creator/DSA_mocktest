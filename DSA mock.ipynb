{
 "cells": [
  {
   "cell_type": "code",
   "execution_count": 6,
   "id": "cf7df32e-8f13-431b-bffe-fe775e9577a1",
   "metadata": {},
   "outputs": [
    {
     "name": "stdout",
     "output_type": "stream",
     "text": [
      "[1, 3, 12, 0, 0]\n"
     ]
    }
   ],
   "source": [
    "##Given an integer array nums, move all 0's to the end of it while maintaining the relative order of the\n",
    "#non-zero elements.\n",
    "'''Input: nums = [0,1,0,3,12]\n",
    "Output: [1,3,12,0,0]'''\n",
    "\n",
    "\n",
    "nums = [0,1,0,3,12]\n",
    "new_list = [num for num in nums if num != 0] + [num for num in nums if num == 0]\n",
    "print(new_list)"
   ]
  },
  {
   "cell_type": "code",
   "execution_count": 19,
   "id": "10954c19-2052-4b7c-9255-5901b91d1211",
   "metadata": {},
   "outputs": [
    {
     "name": "stdout",
     "output_type": "stream",
     "text": [
      "l\n"
     ]
    }
   ],
   "source": [
    "##Given a string s, find the first non-repeating character in it and return its index. If it does not exist, return -1.\n",
    "'''Input: s = \"leetcode\"\n",
    "Output: 0'''\n",
    "\n",
    "s = \"leetcode\"\n",
    "\n",
    "while s != \"\" :\n",
    "    slen0 = len(s)\n",
    "    ch = s[0]\n",
    "    s = s.replace(ch,\"\")\n",
    "    slen1 = len(s)\n",
    "    if slen1 == slen0-1:\n",
    "        print(ch)\n",
    "        break;\n",
    "    else:\n",
    "        print(\"no unique character\")\n",
    "\t\t  "
   ]
  },
  {
   "cell_type": "code",
   "execution_count": null,
   "id": "a98549cb-63a2-4610-b061-7d2a80a41312",
   "metadata": {},
   "outputs": [],
   "source": []
  }
 ],
 "metadata": {
  "kernelspec": {
   "display_name": "Python 3 (ipykernel)",
   "language": "python",
   "name": "python3"
  },
  "language_info": {
   "codemirror_mode": {
    "name": "ipython",
    "version": 3
   },
   "file_extension": ".py",
   "mimetype": "text/x-python",
   "name": "python",
   "nbconvert_exporter": "python",
   "pygments_lexer": "ipython3",
   "version": "3.10.8"
  }
 },
 "nbformat": 4,
 "nbformat_minor": 5
}
